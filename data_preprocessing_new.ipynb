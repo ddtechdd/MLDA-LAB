{
  "nbformat": 4,
  "nbformat_minor": 0,
  "metadata": {
    "colab": {
      "provenance": []
    },
    "kernelspec": {
      "name": "python3",
      "display_name": "Python 3"
    },
    "language_info": {
      "name": "python"
    }
  },
  "cells": [
    {
      "cell_type": "code",
      "source": [
        "import pandas as pd\n",
        "import numpy as np\n",
        "from sklearn.model_selection import train_test_split\n",
        "from sklearn.preprocessing import StandardScaler, OneHotEncoder\n",
        "from sklearn.compose import ColumnTransformer\n",
        "from sklearn.pipeline import Pipeline\n",
        "from sklearn.impute import SimpleImputer\n",
        "\n",
        "\n"
      ],
      "metadata": {
        "id": "Fyrlu2l2ADMW"
      },
      "execution_count": null,
      "outputs": []
    },
    {
      "cell_type": "code",
      "source": [
        "\n",
        "\n",
        "# Load the dataset\n",
        "data = pd.read_csv('iris-parquet.csv')\n",
        "print(data.head())\n",
        "\n"
      ],
      "metadata": {
        "colab": {
          "base_uri": "https://localhost:8080/"
        },
        "id": "f9w4F0RKJfSo",
        "outputId": "6ae466e1-0a78-4d85-ed82-2e530ad4ab6b"
      },
      "execution_count": null,
      "outputs": [
        {
          "output_type": "stream",
          "name": "stdout",
          "text": [
            "   sepal.length  sepal.width  petal.length  petal.width variety\n",
            "0           5.1          3.5           1.4          0.2  Setosa\n",
            "1           4.9          3.0           1.4          0.2  Setosa\n",
            "2           4.7          3.2           1.3          0.2  Setosa\n",
            "3           4.6          3.1           1.5          0.2  Setosa\n",
            "4           5.0          3.6           1.4          0.2  Setosa\n"
          ]
        }
      ]
    },
    {
      "cell_type": "code",
      "source": [
        "\n",
        "\n",
        "# 1. Data Cleaning\n",
        "num_features = ['sepal.length', 'sepal.width', 'petal.length', 'petal.width']\n",
        "cat_features = ['variety']\n",
        "\n"
      ],
      "metadata": {
        "id": "2RE7oS_GJnkf"
      },
      "execution_count": null,
      "outputs": []
    },
    {
      "cell_type": "code",
      "source": [
        "\n",
        "# Numeric transformer: impute + scale\n",
        "num_transformer = Pipeline(steps=[\n",
        "    ('imputer', SimpleImputer(strategy='mean')),\n",
        "    ('scaler', StandardScaler())\n",
        "])\n",
        "\n"
      ],
      "metadata": {
        "id": "NXpf21f7JstV"
      },
      "execution_count": null,
      "outputs": []
    },
    {
      "cell_type": "code",
      "source": [
        "\n",
        "\n",
        "# Categorical transformer: impute + one-hot\n",
        "cat_transformer = Pipeline(steps=[\n",
        "    ('imputer', SimpleImputer(strategy='most_frequent')),\n",
        "    ('onehot', OneHotEncoder(handle_unknown='ignore', sparse_output=False))\n",
        "])\n",
        "\n"
      ],
      "metadata": {
        "id": "-xX3gLvkJyLF"
      },
      "execution_count": null,
      "outputs": []
    },
    {
      "cell_type": "code",
      "source": [
        "\n",
        "\n",
        "# Combine preprocessing steps for Input Data\n",
        "preprocessor = ColumnTransformer(\n",
        "    transformers=[\n",
        "        (\"num\", num_transformer, num_features),\n",
        "        (\"cat\", cat_transformer, cat_features)\n",
        "    ]\n",
        ")\n",
        "preprocessor.set_output(transform=\"pandas\")\n",
        "\n",
        "# Apply transformations to input data\n",
        "data_preprocessed = preprocessor.fit_transform(data)\n",
        "print(data_preprocessed.head())\n",
        "\n",
        "# Combine preprocessing steps for Output Data (target)\n",
        "preprocessor_Out = ColumnTransformer(\n",
        "    transformers=[\n",
        "        (\"cat\", cat_transformer, ['variety'])\n",
        "    ]\n",
        ")\n",
        "preprocessor_Out.set_output(transform=\"pandas\")\n",
        "\n",
        "# Apply transformations to Output data\n",
        "data_preprocessed_Out = preprocessor_Out.fit_transform(data)\n",
        "print(data_preprocessed_Out.head())\n",
        "\n",
        "# 2. Feature Engineering\n",
        "# Example: Petal area = petal.length * petal.width\n",
        "data_preprocessed[\"petal_area\"] = data['petal.length'] * data['petal.width']\n",
        "\n",
        "# 3. Data Splitting\n",
        "X = data_preprocessed\n",
        "y = data_preprocessed_Out\n",
        "X_train, X_test, y_train, y_test = train_test_split(X, y, test_size=0.2, random_state=42)\n",
        "\n",
        "# Display processed training data\n",
        "print(X_train.head())\n",
        "print(y_train.head())\n",
        "\n",
        "\n",
        "\n"
      ],
      "metadata": {
        "colab": {
          "base_uri": "https://localhost:8080/"
        },
        "id": "bZ-pguVTJ2HZ",
        "outputId": "08d86699-e7c2-428f-8b76-7ed4237b71bd"
      },
      "execution_count": null,
      "outputs": [
        {
          "output_type": "stream",
          "name": "stdout",
          "text": [
            "   num__sepal.length  num__sepal.width  num__petal.length  num__petal.width  \\\n",
            "0          -0.900681          1.019004          -1.340227         -1.315444   \n",
            "1          -1.143017         -0.131979          -1.340227         -1.315444   \n",
            "2          -1.385353          0.328414          -1.397064         -1.315444   \n",
            "3          -1.506521          0.098217          -1.283389         -1.315444   \n",
            "4          -1.021849          1.249201          -1.340227         -1.315444   \n",
            "\n",
            "   cat__variety_Setosa  cat__variety_Versicolor  cat__variety_Virginica  \n",
            "0                  1.0                      0.0                     0.0  \n",
            "1                  1.0                      0.0                     0.0  \n",
            "2                  1.0                      0.0                     0.0  \n",
            "3                  1.0                      0.0                     0.0  \n",
            "4                  1.0                      0.0                     0.0  \n",
            "   cat__variety_Setosa  cat__variety_Versicolor  cat__variety_Virginica\n",
            "0                  1.0                      0.0                     0.0\n",
            "1                  1.0                      0.0                     0.0\n",
            "2                  1.0                      0.0                     0.0\n",
            "3                  1.0                      0.0                     0.0\n",
            "4                  1.0                      0.0                     0.0\n",
            "    num__sepal.length  num__sepal.width  num__petal.length  num__petal.width  \\\n",
            "22          -1.506521          1.249201          -1.567576         -1.315444   \n",
            "15          -0.173674          3.090775          -1.283389         -1.052180   \n",
            "65           1.038005          0.098217           0.364896          0.264142   \n",
            "11          -1.264185          0.788808          -1.226552         -1.315444   \n",
            "42          -1.748856          0.328414          -1.397064         -1.315444   \n",
            "\n",
            "    cat__variety_Setosa  cat__variety_Versicolor  cat__variety_Virginica  \\\n",
            "22                  1.0                      0.0                     0.0   \n",
            "15                  1.0                      0.0                     0.0   \n",
            "65                  0.0                      1.0                     0.0   \n",
            "11                  1.0                      0.0                     0.0   \n",
            "42                  1.0                      0.0                     0.0   \n",
            "\n",
            "    petal_area  \n",
            "22        0.20  \n",
            "15        0.60  \n",
            "65        6.16  \n",
            "11        0.32  \n",
            "42        0.26  \n",
            "    cat__variety_Setosa  cat__variety_Versicolor  cat__variety_Virginica\n",
            "22                  1.0                      0.0                     0.0\n",
            "15                  1.0                      0.0                     0.0\n",
            "65                  0.0                      1.0                     0.0\n",
            "11                  1.0                      0.0                     0.0\n",
            "42                  1.0                      0.0                     0.0\n"
          ]
        }
      ]
    },
    {
      "cell_type": "code",
      "source": [],
      "metadata": {
        "id": "cZl26fp5J8NP"
      },
      "execution_count": null,
      "outputs": []
    }
  ]
}