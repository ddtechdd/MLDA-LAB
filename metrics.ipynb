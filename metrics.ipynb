{
  "nbformat": 4,
  "nbformat_minor": 0,
  "metadata": {
    "colab": {
      "provenance": []
    },
    "kernelspec": {
      "name": "python3",
      "display_name": "Python 3"
    },
    "language_info": {
      "name": "python"
    }
  },
  "cells": [
    {
      "cell_type": "code",
      "execution_count": 2,
      "metadata": {
        "id": "6CEn2U-griNP"
      },
      "outputs": [],
      "source": [
        "import pandas as pd\n",
        "from sklearn.preprocessing import LabelEncoder\n",
        "from sklearn.model_selection import train_test_split\n",
        "from sklearn.tree import DecisionTreeClassifier\n",
        "from sklearn.linear_model import LinearRegression\n",
        "from sklearn.metrics import accuracy_score,mean_squared_error, r2_score"
      ]
    },
    {
      "cell_type": "code",
      "source": [
        "\n",
        "data = pd.read_csv(\"organizations-100.csv\")\n",
        "print(data.head())\n",
        "le = LabelEncoder()\n",
        "data[\"Industry_encoded\"] = le.fit_transform(data[\"Industry\"])\n",
        "data[\"Country_encoded\"] = le.fit_transform(data[\"Country\"])\n",
        "\n",
        "print(data.head())\n",
        "\n",
        "\n",
        "x = data[[\"Founded\", \"Number of employees\", \"Industry_encoded\", \"Country_encoded\"]]\n",
        "x.head()\n",
        "y = data[\"Number of employees\"]"
      ],
      "metadata": {
        "colab": {
          "base_uri": "https://localhost:8080/"
        },
        "id": "C-rZI97Zso_g",
        "outputId": "d4d96902-71db-4ecc-f10e-bffd09a23738"
      },
      "execution_count": 3,
      "outputs": [
        {
          "output_type": "stream",
          "name": "stdout",
          "text": [
            "   Index  Organization Id                     Name  \\\n",
            "0      1  FAB0d41d5b5d22c              Ferrell LLC   \n",
            "1      2  6A7EdDEA9FaDC52  Mckinney, Riley and Day   \n",
            "2      3  0bFED1ADAE4bcC1               Hester Ltd   \n",
            "3      4  2bFC1Be8a4ce42f           Holder-Sellers   \n",
            "4      5  9eE8A6a4Eb96C24              Mayer Group   \n",
            "\n",
            "                          Website           Country  \\\n",
            "0              https://price.net/  Papua New Guinea   \n",
            "1  http://www.hall-buchanan.info/           Finland   \n",
            "2       http://sullivan-reed.com/             China   \n",
            "3             https://becker.com/      Turkmenistan   \n",
            "4          http://www.brewer.com/         Mauritius   \n",
            "\n",
            "                                      Description  Founded  \\\n",
            "0             Horizontal empowering knowledgebase     1990   \n",
            "1             User-centric system-worthy leverage     2015   \n",
            "2                  Switchable scalable moratorium     1971   \n",
            "3  De-engineered systemic artificial intelligence     2004   \n",
            "4              Synchronized needs-based challenge     1991   \n",
            "\n",
            "                      Industry  Number of employees  \n",
            "0                     Plastics                 3498  \n",
            "1  Glass / Ceramics / Concrete                 4952  \n",
            "2                Public Safety                 5287  \n",
            "3                   Automotive                  921  \n",
            "4               Transportation                 7870  \n",
            "   Index  Organization Id                     Name  \\\n",
            "0      1  FAB0d41d5b5d22c              Ferrell LLC   \n",
            "1      2  6A7EdDEA9FaDC52  Mckinney, Riley and Day   \n",
            "2      3  0bFED1ADAE4bcC1               Hester Ltd   \n",
            "3      4  2bFC1Be8a4ce42f           Holder-Sellers   \n",
            "4      5  9eE8A6a4Eb96C24              Mayer Group   \n",
            "\n",
            "                          Website           Country  \\\n",
            "0              https://price.net/  Papua New Guinea   \n",
            "1  http://www.hall-buchanan.info/           Finland   \n",
            "2       http://sullivan-reed.com/             China   \n",
            "3             https://becker.com/      Turkmenistan   \n",
            "4          http://www.brewer.com/         Mauritius   \n",
            "\n",
            "                                      Description  Founded  \\\n",
            "0             Horizontal empowering knowledgebase     1990   \n",
            "1             User-centric system-worthy leverage     2015   \n",
            "2                  Switchable scalable moratorium     1971   \n",
            "3  De-engineered systemic artificial intelligence     2004   \n",
            "4              Synchronized needs-based challenge     1991   \n",
            "\n",
            "                      Industry  Number of employees  Industry_encoded  \\\n",
            "0                     Plastics                 3498                55   \n",
            "1  Glass / Ceramics / Concrete                 4952                25   \n",
            "2                Public Safety                 5287                59   \n",
            "3                   Automotive                  921                 4   \n",
            "4               Transportation                 7870                66   \n",
            "\n",
            "   Country_encoded  \n",
            "0               61  \n",
            "1               28  \n",
            "2               16  \n",
            "3               75  \n",
            "4               50  \n"
          ]
        }
      ]
    },
    {
      "cell_type": "code",
      "source": [
        "from sklearn.tree import DecisionTreeRegressor\n",
        "from sklearn.linear_model import LinearRegression\n",
        "from sklearn.model_selection import train_test_split\n",
        "from sklearn.metrics import mean_squared_error, r2_score\n",
        "\n",
        "# Features: x\n",
        "# Target: y = data[\"Number of employees\"]\n",
        "\n",
        "x_train, x_test, y_train, y_test = train_test_split(x, y, test_size=0.2, random_state=2)\n",
        "\n",
        "# Decision Tree Regressor\n",
        "dt = DecisionTreeRegressor()\n",
        "dt.fit(x_train, y_train)\n",
        "y_dt_pred = dt.predict(x_test)\n",
        "\n",
        "# Linear Regression\n",
        "lrr = LinearRegression()\n",
        "lrr.fit(x_train, y_train)\n",
        "y_lrr_pred = lrr.predict(x_test)\n",
        "\n",
        "# Evaluation\n",
        "mse_dt = mean_squared_error(y_test, y_dt_pred)\n",
        "r2_dt = r2_score(y_test, y_dt_pred)\n",
        "print(\"Decision Tree Regressor MSE:\", mse_dt)\n",
        "print(\"Decision Tree Regressor R2:\", r2_dt)\n",
        "\n",
        "mse = mean_squared_error(y_test, y_lrr_pred)\n",
        "r2 = r2_score(y_test, y_lrr_pred)\n",
        "print(\"Linear Regression MSE:\", mse)\n",
        "print(\"Linear Regression R2:\", r2)\n"
      ],
      "metadata": {
        "colab": {
          "base_uri": "https://localhost:8080/"
        },
        "id": "LbrAKEN4tD1F",
        "outputId": "ea80bb28-367a-4246-926f-f3777f9c5618"
      },
      "execution_count": 4,
      "outputs": [
        {
          "output_type": "stream",
          "name": "stdout",
          "text": [
            "Decision Tree Regressor MSE: 25737.4\n",
            "Decision Tree Regressor R2: 0.9970614926334636\n",
            "Linear Regression MSE: 3.0484513629420078e-24\n",
            "Linear Regression R2: 1.0\n"
          ]
        }
      ]
    }
  ]
}