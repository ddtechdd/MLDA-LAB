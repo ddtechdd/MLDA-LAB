{
  "nbformat": 4,
  "nbformat_minor": 0,
  "metadata": {
    "colab": {
      "provenance": [],
      "authorship_tag": "ABX9TyNMIATNSjU3fpC/LfuW99/I",
      "include_colab_link": true
    },
    "kernelspec": {
      "name": "python3",
      "display_name": "Python 3"
    },
    "language_info": {
      "name": "python"
    }
  },
  "cells": [
    {
      "cell_type": "markdown",
      "metadata": {
        "id": "view-in-github",
        "colab_type": "text"
      },
      "source": [
        "<a href=\"https://colab.research.google.com/github/ddtechdd/MLDA-LAB/blob/main/HirerachialClassification.ipynb\" target=\"_parent\"><img src=\"https://colab.research.google.com/assets/colab-badge.svg\" alt=\"Open In Colab\"/></a>"
      ]
    },
    {
      "cell_type": "code",
      "execution_count": null,
      "metadata": {
        "colab": {
          "base_uri": "https://localhost:8080/"
        },
        "id": "Qc4FNtsG7nIe",
        "outputId": "081edeaf-abbe-4eea-95d0-2332e69cc109"
      },
      "outputs": [
        {
          "output_type": "stream",
          "name": "stdout",
          "text": [
            "Classification Report:\n",
            "               precision    recall  f1-score   support\n",
            "\n",
            "           0       1.00      1.00      1.00        10\n",
            "           1       0.88      0.78      0.82         9\n",
            "           2       0.83      0.91      0.87        11\n",
            "\n",
            "    accuracy                           0.90        30\n",
            "   macro avg       0.90      0.90      0.90        30\n",
            "weighted avg       0.90      0.90      0.90        30\n",
            "\n",
            "Confusion Matrix:\n",
            " [[10  0  0]\n",
            " [ 0  7  2]\n",
            " [ 0  1 10]]\n"
          ]
        }
      ],
      "source": [
        "import numpy as np\n",
        "import matplotlib.pyplot as plt\n",
        "from sklearn.datasets import load_iris\n",
        "from sklearn.cluster import AgglomerativeClustering\n",
        "from sklearn.model_selection import train_test_split\n",
        "from sklearn.metrics import confusion_matrix, classification_report\n",
        "from scipy.optimize import linear_sum_assignment\n",
        "\n",
        "# Load data\n",
        "iris = load_iris()\n",
        "x = iris.data[:, :2]  # Use only first two features for visualization\n",
        "y = iris.target\n",
        "\n",
        "# Split data\n",
        "x_train, x_test, y_train, y_test = train_test_split(x, y, test_size=0.2, random_state=42)\n",
        "\n",
        "# Apply Agglomerative Clustering\n",
        "hc_model = AgglomerativeClustering(n_clusters=3, linkage='ward')\n",
        "y_hc = hc_model.fit_predict(x_test)\n",
        "\n",
        "# Align cluster labels with true labels using Hungarian algorithm\n",
        "def match_labels(true_labels, cluster_labels):\n",
        "    cm = confusion_matrix(true_labels, cluster_labels)\n",
        "    row_ind, col_ind = linear_sum_assignment(-cm)\n",
        "    mapping = {col: row for row, col in zip(row_ind, col_ind)}\n",
        "    return np.array([mapping[label] for label in cluster_labels])\n",
        "\n",
        "y_hc_aligned = match_labels(y_test, y_hc)\n",
        "\n",
        "# Evaluation\n",
        "print(\"Classification Report:\\n\", classification_report(y_test, y_hc_aligned))\n",
        "print(\"Confusion Matrix:\\n\", confusion_matrix(y_test, y_hc_aligned))\n"
      ]
    }
  ]
}